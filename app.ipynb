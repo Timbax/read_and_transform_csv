{
 "cells": [
  {
   "cell_type": "markdown",
   "metadata": {},
   "source": [
    "##### Ejercicio\n",
    "El fichero titanic.csv contiene información sobre los pasajeros del Titanic. Escribir un programa con los siguientes requisitos:<br>\n",
    "Generar un DataFrame con los datos del fichero.<br>\n",
    "Mostrar por pantalla las dimensiones del DataFrame, el número de datos que contiene, los nombres de sus columnas y filas, los tipos de datos de las columnas, las 10 primeras filas y las 10 últimas filas.<br>\n",
    "Mostrar por pantalla los datos del pasajero con identificador 148.<br>\n",
    "Mostrar por pantalla las filas pares del DataFrame.<br>\n",
    "Mostrar por pantalla los nombres de las personas que iban en primera clase ordenadas alfabéticamente.<br>\n",
    "Mostrar por pantalla el porcentaje de personas que sobrevivieron y murieron.<br>\n",
    "Mostrar por pantalla el porcentaje de personas que sobrevivieron en cada clase.<br>\n",
    "Eliminar del DataFrame los pasajeros con edad desconocida.<br>\n",
    "Mostrar por pantalla la edad media de las mujeres que viajaban en cada clase.<br>\n",
    "Añadir una nueva columna booleana para ver si el pasajero era menor de edad o no.<br>\n",
    "Mostrar por pantalla el porcentaje de menores y mayores de edad que sobrevivieron en cada clase.<br>"
   ]
  },
  {
   "cell_type": "code",
   "execution_count": 4,
   "metadata": {},
   "outputs": [],
   "source": [
    "import pandas as pd\n",
    "\n",
    "titanic = pd.read_csv('./file/titanic.csv', index_col=0)\n",
    "\n",
    "#print(titanic)"
   ]
  },
  {
   "cell_type": "code",
   "execution_count": null,
   "metadata": {},
   "outputs": [],
   "source": [
    "print('Dimensiones:', titanic.shape)\n",
    "print('Número de elemntos:', titanic.size)\n",
    "print('Nombres de columnas:', titanic.columns)\n",
    "print('Nombres de filas:', titanic.index)\n",
    "print('Tipos de datos:\\n', titanic.dtypes)\n",
    "print('Primeras 10 filas:\\n', titanic.head(10))\n",
    "print('Últimas 10 filas:\\n', titanic.tail(10))\n"
   ]
  },
  {
   "cell_type": "code",
   "execution_count": null,
   "metadata": {},
   "outputs": [],
   "source": [
    "# Mostrar por pantalla los datos del pasajero con identificador 148\n",
    "print(titanic.loc[148])"
   ]
  },
  {
   "cell_type": "code",
   "execution_count": null,
   "metadata": {},
   "outputs": [],
   "source": [
    "# Mostrar los nombres de las personas que iban en primera clase ordenadas alfabéticamente.\n",
    "print(titanic[titanic[\"Pclass\"]==1]['Name'].sort_values())"
   ]
  },
  {
   "cell_type": "code",
   "execution_count": null,
   "metadata": {},
   "outputs": [],
   "source": [
    "# Mostrar por pantalla el porcentaje de personas que sobrevivieron y murieron\n",
    "print(titanic['Survived'].value_counts()/titanic['Survived'].count() * 100)\n",
    "\n",
    "# Alternativa\n",
    "print(titanic['Survived'].value_counts(normalize=True) * 100)"
   ]
  },
  {
   "cell_type": "code",
   "execution_count": null,
   "metadata": {},
   "outputs": [],
   "source": [
    "#Mostrar por pantalla el porcentaje de personas que sobrevivieron en cada clase\n",
    "print(titanic.groupby('Pclass')['Survived'].value_counts(normalize=True))"
   ]
  },
  {
   "cell_type": "code",
   "execution_count": null,
   "metadata": {},
   "outputs": [],
   "source": [
    "# Eliminar del DataFrame los pasajeros con edad desconocida.\n",
    "titanic.dropna(subset=['Age'])\n",
    "\n",
    "# Alternativa \n",
    "# titanic = titanic[titanic['Age'].notna()]"
   ]
  },
  {
   "cell_type": "code",
   "execution_count": null,
   "metadata": {},
   "outputs": [],
   "source": [
    "# Mostrar la edad media de las mujeres que viajaban en cada clase.\n",
    "print(titanic.groupby(['Pclass','Sex'])['Age'].mean().unstack()['female'])"
   ]
  },
  {
   "cell_type": "code",
   "execution_count": 8,
   "metadata": {},
   "outputs": [],
   "source": [
    "# Añadir una nueva columna booleana para ver si el pasajero era menor de edad o no.\n",
    "titanic['Young'] = titanic['Age'] < 18"
   ]
  },
  {
   "cell_type": "code",
   "execution_count": 9,
   "metadata": {},
   "outputs": [
    {
     "name": "stdout",
     "output_type": "stream",
     "text": [
      "Pclass  Young  Survived\n",
      "1       False  1           61.274510\n",
      "               0           38.725490\n",
      "        True   1           91.666667\n",
      "               0            8.333333\n",
      "2       False  0           59.006211\n",
      "               1           40.993789\n",
      "        True   1           91.304348\n",
      "               0            8.695652\n",
      "3       False  0           78.208232\n",
      "               1           21.791768\n",
      "        True   0           62.820513\n",
      "               1           37.179487\n",
      "Name: proportion, dtype: float64\n"
     ]
    }
   ],
   "source": [
    "# Mostrar el porcentaje de menores y mayores de edad que sobrevivieron en cada clase.\n",
    "print(titanic.groupby(['Pclass', 'Young'])['Survived'].value_counts(normalize = True) * 100)"
   ]
  }
 ],
 "metadata": {
  "kernelspec": {
   "display_name": "primerProyecto",
   "language": "python",
   "name": "python3"
  },
  "language_info": {
   "codemirror_mode": {
    "name": "ipython",
    "version": 3
   },
   "file_extension": ".py",
   "mimetype": "text/x-python",
   "name": "python",
   "nbconvert_exporter": "python",
   "pygments_lexer": "ipython3",
   "version": "3.8.20"
  }
 },
 "nbformat": 4,
 "nbformat_minor": 2
}
